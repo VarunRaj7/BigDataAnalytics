{
 "cells": [
  {
   "cell_type": "code",
   "execution_count": 21,
   "metadata": {},
   "outputs": [
    {
     "name": "stdout",
     "output_type": "stream",
     "text": [
      "['a', [1, 2, 3, 4], 'b', [3, 4]]\n"
     ]
    }
   ],
   "source": [
    "x = sc.parallelize([(\"a\", [1,2,3,4]), (\"b\", [3,4])])\n",
    "\n",
    "def f(x): return x\n",
    "\n",
    "x = x.mapValues(f)\n",
    "\n",
    "x = x.flatMap(f).collect()\n",
    "\n",
    "print(x)"
   ]
  },
  {
   "cell_type": "code",
   "execution_count": null,
   "metadata": {},
   "outputs": [],
   "source": []
  }
 ],
 "metadata": {
  "kernelspec": {
   "display_name": "Python 3",
   "language": "python",
   "name": "python3"
  }
 },
 "nbformat": 4,
 "nbformat_minor": 2
}
